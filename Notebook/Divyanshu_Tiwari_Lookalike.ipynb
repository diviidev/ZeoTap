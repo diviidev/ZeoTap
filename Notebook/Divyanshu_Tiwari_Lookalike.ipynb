{
 "cells": [
  {
   "cell_type": "code",
   "execution_count": 71,
   "id": "fe3b8fc4-a5f1-4ff6-9de7-7f6b22359c2e",
   "metadata": {},
   "outputs": [],
   "source": [
    "# Import required libraries\n",
    "import pandas as pd\n",
    "import numpy as np\n",
    "from sklearn.preprocessing import StandardScaler\n",
    "from sklearn.metrics.pairwise import cosine_similarity\n"
   ]
  },
  {
   "cell_type": "code",
   "execution_count": 72,
   "id": "ae3e7c6b-6a5e-4013-aa78-141371c3c7d8",
   "metadata": {},
   "outputs": [],
   "source": [
    "# Load the datasets\n",
    "customers_df =pd.read_csv(r'C:\\Users\\Admin\\ecommerce_analysis\\data\\Customers.csv')\n",
    "products_df = pd.read_csv(r'C:\\Users\\Admin\\ecommerce_analysis\\data\\Products.csv')\n",
    "transactions_df = pd.read_csv(r'C:\\Users\\Admin\\ecommerce_analysis\\data\\Transactions.csv')"
   ]
  },
  {
   "cell_type": "code",
   "execution_count": 73,
   "id": "c4ac4cae-972f-454d-a962-4d040b283fb5",
   "metadata": {},
   "outputs": [],
   "source": [
    "# Convert date columns to datetime\n",
    "customers_df['SignupDate'] = pd.to_datetime(customers_df['SignupDate'])\n",
    "transactions_df['TransactionDate'] = pd.to_datetime(transactions_df['TransactionDate'])\n"
   ]
  },
  {
   "cell_type": "code",
   "execution_count": 74,
   "id": "29d2676d-7c54-40e6-b509-34cad0772fab",
   "metadata": {},
   "outputs": [],
   "source": [
    "# Create customer features\n",
    "def create_customer_features():\n",
    "    # Transaction-based features\n",
    "    transaction_features = transactions_df.groupby('CustomerID').agg({\n",
    "        'TotalValue': ['sum', 'mean', 'std'],\n",
    "        'Quantity': ['sum', 'mean'],\n",
    "        'TransactionID': 'count'\n",
    "    }).fillna(0)\n",
    "    "
   ]
  },
  {
   "cell_type": "code",
   "execution_count": 75,
   "id": "7189d482-e3c8-4374-b354-36a52d9428dd",
   "metadata": {},
   "outputs": [],
   "source": [
    "# Flatten column names\n",
    "transaction_features.columns = ['_'.join(col).strip() for col in transaction_features.columns.values]\n",
    "    "
   ]
  },
  {
   "cell_type": "code",
   "execution_count": 76,
   "id": "221b4c6a-75f0-46e8-98b1-87f248b98983",
   "metadata": {},
   "outputs": [],
   "source": [
    "# Product category preferences\n",
    "category_pivot = pd.merge(transactions_df, products_df[['ProductID', 'Category']], on='ProductID')\n",
    "category_features = pd.crosstab(category_pivot['CustomerID'], category_pivot['Category'])\n",
    "    "
   ]
  },
  {
   "cell_type": "code",
   "execution_count": 77,
   "id": "b127b389-43be-4868-84b1-323caebe7a97",
   "metadata": {},
   "outputs": [],
   "source": [
    "# Customer recency\n",
    "last_purchase = transactions_df.groupby('CustomerID')['TransactionDate'].max()\n",
    "first_purchase = transactions_df.groupby('CustomerID')['TransactionDate'].min()\n",
    "customer_age = (last_purchase - first_purchase).dt.days"
   ]
  },
  {
   "cell_type": "code",
   "execution_count": 78,
   "id": "439a6908-3d00-4cfd-925b-ec05002aba06",
   "metadata": {},
   "outputs": [],
   "source": [
    "# Combine features\n",
    "def create_feature_matrix(transaction_features, category_features, customer_age):\n",
    "    feature_matrix = pd.concat([\n",
    "        transaction_features,\n",
    "        category_features,\n",
    "        customer_age.rename('customer_age')\n",
    "    ], axis=1).fillna(0)\n",
    "    return feature_matrix"
   ]
  },
  {
   "cell_type": "code",
   "execution_count": 79,
   "id": "e11ecc7a-e8da-4abe-808f-017ab0794efc",
   "metadata": {},
   "outputs": [],
   "source": [
    "def find_lookalikes(customer_id, feature_matrix, n_recommendations=3):\n",
    "    # Standardize features\n",
    "    scaler = StandardScaler()\n",
    "    scaled_features = scaler.fit_transform(feature_matrix)\n",
    "    \n",
    "    # Calculate similarity\n",
    "    similarity_matrix = cosine_similarity(scaled_features)\n",
    "    \n",
    "    # Get customer index\n",
    "    customer_idx = feature_matrix.index.get_loc(customer_id)\n",
    "    \n",
    "    # Find most similar customers\n",
    "    similar_scores = list(enumerate(similarity_matrix[customer_idx]))\n",
    "    similar_scores = sorted(similar_scores, key=lambda x: x[1], reverse=True)[1:n_recommendations+1]\n",
    "    \n",
    "    return [(feature_matrix.index[idx], score) for idx, score in similar_scores]\n"
   ]
  },
  {
   "cell_type": "code",
   "execution_count": 80,
   "id": "644263c2-6293-4cb5-9b77-ce44a77dc447",
   "metadata": {},
   "outputs": [],
   "source": [
    "# Create feature matrix\n",
    "feature_matrix = create_customer_features()\n"
   ]
  },
  {
   "cell_type": "code",
   "execution_count": 81,
   "id": "26814967-36cb-475d-b1ea-1c321edb54a6",
   "metadata": {},
   "outputs": [
    {
     "name": "stdout",
     "output_type": "stream",
     "text": [
      "Error processing customer C0001: Expected 2D array, got scalar array instead:\n",
      "array=nan.\n",
      "Reshape your data either using array.reshape(-1, 1) if your data has a single feature or array.reshape(1, -1) if it contains a single sample.\n",
      "Error processing customer C0002: Expected 2D array, got scalar array instead:\n",
      "array=nan.\n",
      "Reshape your data either using array.reshape(-1, 1) if your data has a single feature or array.reshape(1, -1) if it contains a single sample.\n",
      "Error processing customer C0003: Expected 2D array, got scalar array instead:\n",
      "array=nan.\n",
      "Reshape your data either using array.reshape(-1, 1) if your data has a single feature or array.reshape(1, -1) if it contains a single sample.\n",
      "Error processing customer C0004: Expected 2D array, got scalar array instead:\n",
      "array=nan.\n",
      "Reshape your data either using array.reshape(-1, 1) if your data has a single feature or array.reshape(1, -1) if it contains a single sample.\n",
      "Error processing customer C0005: Expected 2D array, got scalar array instead:\n",
      "array=nan.\n",
      "Reshape your data either using array.reshape(-1, 1) if your data has a single feature or array.reshape(1, -1) if it contains a single sample.\n",
      "Error processing customer C0006: Expected 2D array, got scalar array instead:\n",
      "array=nan.\n",
      "Reshape your data either using array.reshape(-1, 1) if your data has a single feature or array.reshape(1, -1) if it contains a single sample.\n",
      "Error processing customer C0007: Expected 2D array, got scalar array instead:\n",
      "array=nan.\n",
      "Reshape your data either using array.reshape(-1, 1) if your data has a single feature or array.reshape(1, -1) if it contains a single sample.\n",
      "Error processing customer C0008: Expected 2D array, got scalar array instead:\n",
      "array=nan.\n",
      "Reshape your data either using array.reshape(-1, 1) if your data has a single feature or array.reshape(1, -1) if it contains a single sample.\n",
      "Error processing customer C0009: Expected 2D array, got scalar array instead:\n",
      "array=nan.\n",
      "Reshape your data either using array.reshape(-1, 1) if your data has a single feature or array.reshape(1, -1) if it contains a single sample.\n",
      "Error processing customer C0010: Expected 2D array, got scalar array instead:\n",
      "array=nan.\n",
      "Reshape your data either using array.reshape(-1, 1) if your data has a single feature or array.reshape(1, -1) if it contains a single sample.\n",
      "Error processing customer C0011: Expected 2D array, got scalar array instead:\n",
      "array=nan.\n",
      "Reshape your data either using array.reshape(-1, 1) if your data has a single feature or array.reshape(1, -1) if it contains a single sample.\n",
      "Error processing customer C0012: Expected 2D array, got scalar array instead:\n",
      "array=nan.\n",
      "Reshape your data either using array.reshape(-1, 1) if your data has a single feature or array.reshape(1, -1) if it contains a single sample.\n",
      "Error processing customer C0013: Expected 2D array, got scalar array instead:\n",
      "array=nan.\n",
      "Reshape your data either using array.reshape(-1, 1) if your data has a single feature or array.reshape(1, -1) if it contains a single sample.\n",
      "Error processing customer C0014: Expected 2D array, got scalar array instead:\n",
      "array=nan.\n",
      "Reshape your data either using array.reshape(-1, 1) if your data has a single feature or array.reshape(1, -1) if it contains a single sample.\n",
      "Error processing customer C0015: Expected 2D array, got scalar array instead:\n",
      "array=nan.\n",
      "Reshape your data either using array.reshape(-1, 1) if your data has a single feature or array.reshape(1, -1) if it contains a single sample.\n",
      "Error processing customer C0016: Expected 2D array, got scalar array instead:\n",
      "array=nan.\n",
      "Reshape your data either using array.reshape(-1, 1) if your data has a single feature or array.reshape(1, -1) if it contains a single sample.\n",
      "Error processing customer C0017: Expected 2D array, got scalar array instead:\n",
      "array=nan.\n",
      "Reshape your data either using array.reshape(-1, 1) if your data has a single feature or array.reshape(1, -1) if it contains a single sample.\n",
      "Error processing customer C0018: Expected 2D array, got scalar array instead:\n",
      "array=nan.\n",
      "Reshape your data either using array.reshape(-1, 1) if your data has a single feature or array.reshape(1, -1) if it contains a single sample.\n",
      "Error processing customer C0019: Expected 2D array, got scalar array instead:\n",
      "array=nan.\n",
      "Reshape your data either using array.reshape(-1, 1) if your data has a single feature or array.reshape(1, -1) if it contains a single sample.\n",
      "Error processing customer C0020: Expected 2D array, got scalar array instead:\n",
      "array=nan.\n",
      "Reshape your data either using array.reshape(-1, 1) if your data has a single feature or array.reshape(1, -1) if it contains a single sample.\n",
      "\n",
      "Lookalike Results:\n",
      "      Lookalike_1 Lookalike_2 Lookalike_3\n",
      "C0001        None        None        None\n",
      "C0002        None        None        None\n",
      "C0003        None        None        None\n",
      "C0004        None        None        None\n",
      "C0005        None        None        None\n",
      "C0006        None        None        None\n",
      "C0007        None        None        None\n",
      "C0008        None        None        None\n",
      "C0009        None        None        None\n",
      "C0010        None        None        None\n",
      "C0011        None        None        None\n",
      "C0012        None        None        None\n",
      "C0013        None        None        None\n",
      "C0014        None        None        None\n",
      "C0015        None        None        None\n",
      "C0016        None        None        None\n",
      "C0017        None        None        None\n",
      "C0018        None        None        None\n",
      "C0019        None        None        None\n",
      "C0020        None        None        None\n"
     ]
    }
   ],
   "source": [
    "# Generate lookalikes for first 20 customers\n",
    "lookalike_results = {}\n",
    "first_20_customers = customers_df['CustomerID'].head(20).tolist()\n",
    "\n",
    "for customer_id in first_20_customers:\n",
    "    try:\n",
    "        lookalikes = find_lookalikes(customer_id, feature_matrix)\n",
    "        lookalike_results[customer_id] = lookalikes\n",
    "    except Exception as e:\n",
    "        print(f\"Error processing customer {customer_id}: {str(e)}\")\n",
    "        lookalike_results[customer_id] = [None, None, None]\n",
    "\n",
    "# Create and save results DataFrame\n",
    "results_df = pd.DataFrame.from_dict(lookalike_results, orient='index')\n",
    "results_df.columns = ['Lookalike_1', 'Lookalike_2', 'Lookalike_3']\n",
    "\n",
    "# Save results\n",
    "results_df.to_csv('FirstName_LastName_Lookalike.csv')\n",
    "\n",
    "# Display results\n",
    "print(\"\\nLookalike Results:\")\n",
    "print(results_df)"
   ]
  },
  {
   "cell_type": "code",
   "execution_count": null,
   "id": "353e4b60-18b2-45ce-ab3e-05859e48363b",
   "metadata": {},
   "outputs": [],
   "source": []
  }
 ],
 "metadata": {
  "kernelspec": {
   "display_name": "Python 3 (ipykernel)",
   "language": "python",
   "name": "python3"
  },
  "language_info": {
   "codemirror_mode": {
    "name": "ipython",
    "version": 3
   },
   "file_extension": ".py",
   "mimetype": "text/x-python",
   "name": "python",
   "nbconvert_exporter": "python",
   "pygments_lexer": "ipython3",
   "version": "3.12.7"
  }
 },
 "nbformat": 4,
 "nbformat_minor": 5
}
